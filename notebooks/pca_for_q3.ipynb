{
 "cells": [
  {
   "cell_type": "code",
   "execution_count": 316,
   "metadata": {
    "vscode": {
     "languageId": "r"
    }
   },
   "outputs": [],
   "source": [
    "library(dplyr)\n",
    "library(lme4)\n",
    "library(nlme)\n",
    "library(purrr)\n",
    "library(performance)\n",
    "library(tibble)\n",
    "library(MuMIn)\n",
    "library(here)\n",
    "library(emmeans)\n",
    "library(car)\n",
    "library(ggplot2)\n",
    "library(modelr)\n",
    "require(vegan)\n",
    "require(knitr)\n",
    "require(ggpubr)\n",
    "library(ggeffects)\n",
    "library(janitor)\n",
    "library(sjPlot)\n",
    "library(visreg)\n",
    "library(interactions)\n"
   ]
  },
  {
   "cell_type": "code",
   "execution_count": 317,
   "metadata": {
    "vscode": {
     "languageId": "r"
    }
   },
   "outputs": [],
   "source": [
    "setwd(here::here())"
   ]
  },
  {
   "cell_type": "code",
   "execution_count": 323,
   "metadata": {
    "vscode": {
     "languageId": "r"
    }
   },
   "outputs": [],
   "source": [
    "# Load all joined dataset\n",
    "source(\"./scripts/code_join_data_full_dataset.R\")"
   ]
  },
  {
   "cell_type": "code",
   "execution_count": 324,
   "metadata": {
    "vscode": {
     "languageId": "r"
    }
   },
   "outputs": [],
   "source": [
    "# Load custom made functions\n"
   ]
  },
  {
   "cell_type": "code",
   "execution_count": 325,
   "metadata": {
    "vscode": {
     "languageId": "r"
    }
   },
   "outputs": [],
   "source": [
    "# set plot dimensions\n",
    "options(repr.plot.width = 15)\n",
    "options(repr.plot.height = 10)"
   ]
  },
  {
   "cell_type": "markdown",
   "metadata": {},
   "source": [
    "__For running each peice of code press shift + Enter__"
   ]
  },
  {
   "cell_type": "markdown",
   "metadata": {},
   "source": [
    "# __Q3:How do functional traits, treatment, and N-fixing status interact to influence seedling-level growth rates and biomass accumulation?__\n"
   ]
  },
  {
   "cell_type": "markdown",
   "metadata": {},
   "source": [
    "## Trait Correlations"
   ]
  },
  {
   "cell_type": "code",
   "execution_count": 326,
   "metadata": {
    "vscode": {
     "languageId": "r"
    }
   },
   "outputs": [],
   "source": [
    "# Select variables that are going to be used in the model\n",
    "data_for_models <-\n",
    "    data_for_models %>%\n",
    "\n",
    "    clean_names() %>%\n",
    "    # Select columns needed for regression\n",
    "    dplyr::select(spcode, treatment, nfixer, init_height,\n",
    "\n",
    "                  # Performance measures\n",
    "                  total_biomass, rgr, root_shoot_ratio,\n",
    "\n",
    "                  # physiology traits\n",
    "                  amax, gs, wue, pnue, sla,\n",
    "\n",
    "                  # Leaf traits\n",
    "                  narea_g_m2) %>%\n",
    "    clean_names()"
   ]
  },
  {
   "cell_type": "code",
   "execution_count": null,
   "metadata": {
    "vscode": {
     "languageId": "r"
    }
   },
   "outputs": [],
   "source": [
    "data_traits_scaled <-\n",
    "    data_for_models %>%\n",
    "        dplyr::select(-c(total_biomass, rgr, root_shoot_ratio, init_height)) %>%\n",
    "        mutate(across(where(is.numeric), scale))"
   ]
  },
  {
   "cell_type": "code",
   "execution_count": null,
   "metadata": {
    "vscode": {
     "languageId": "r"
    }
   },
   "outputs": [],
   "source": [
    "pca_traits <- princomp(data_traits_scaled[,c(4:ncol(data_traits_scaled))])"
   ]
  },
  {
   "cell_type": "code",
   "execution_count": null,
   "metadata": {
    "vscode": {
     "languageId": "r"
    }
   },
   "outputs": [],
   "source": [
    "fviz_screeplot(pca_traits, addlabels = TRUE, ylim = c(0, 50))"
   ]
  },
  {
   "cell_type": "code",
   "execution_count": null,
   "metadata": {
    "vscode": {
     "languageId": "r"
    }
   },
   "outputs": [],
   "source": [
    "fviz_pca_biplot(pca_traits,axes = c(1, 2),\n",
    "\n",
    "                # Add group\n",
    "                habillage= data_traits_scaled$nfixer,\n",
    "\n",
    "                # Set labels\n",
    "                label =\"var\",\n",
    "\n",
    "                # Set arrow color\n",
    "                col.var = \"black\",\n",
    "\n",
    "                # Repel overlapping labels\n",
    "                repel = TRUE) +\n",
    "  theme_minimal() + scale_color_brewer(palette=\"Set1\")"
   ]
  },
  {
   "cell_type": "code",
   "execution_count": null,
   "metadata": {
    "vscode": {
     "languageId": "r"
    }
   },
   "outputs": [],
   "source": [
    "fviz_pca_biplot(pca_traits,axes = c(1, 3),\n",
    "\n",
    "                # Add group\n",
    "                habillage = data_traits_scaled$nfixer,\n",
    "\n",
    "                # Set labels\n",
    "                label =\"var\",\n",
    "\n",
    "                # Set arrow color\n",
    "                col.var = \"black\",\n",
    "\n",
    "                # Repel overlapping labels\n",
    "                repel = TRUE) +\n",
    "  theme_minimal() + scale_color_brewer(palette=\"Set1\")"
   ]
  },
  {
   "cell_type": "code",
   "execution_count": null,
   "metadata": {
    "vscode": {
     "languageId": "r"
    }
   },
   "outputs": [],
   "source": [
    "fviz_pca_biplot(pca_traits,axes = c(2, 3),\n",
    "\n",
    "                # Add group\n",
    "                habillage = data_traits_scaled$nfixer,\n",
    "\n",
    "                # Set labels\n",
    "                label =\"var\",\n",
    "\n",
    "                # Set arrow color\n",
    "                col.var = \"black\",\n",
    "\n",
    "                # Repel overlapping labels\n",
    "                repel = TRUE) +\n",
    "  theme_minimal() + scale_color_brewer(palette=\"Set1\")"
   ]
  },
  {
   "cell_type": "code",
   "execution_count": null,
   "metadata": {
    "vscode": {
     "languageId": "r"
    }
   },
   "outputs": [],
   "source": [
    "# Extract loadings\n",
    "pca_traits$loadings"
   ]
  },
  {
   "cell_type": "code",
   "execution_count": null,
   "metadata": {
    "vscode": {
     "languageId": "r"
    }
   },
   "outputs": [],
   "source": [
    "## Biplots interpretation\n",
    "[PCA interpretation](https://wilkelab.org/SDS375/slides/dimension-reduction-1.html#18)\n",
    "\n",
    "+ The first 3 PCs explains 81% (47.9,19.4,15.8) of the variability in the data\n",
    "+ PC1 separates fixers from non-fixers\n",
    "+ All traits contribute positively to PC1\n",
    "\n",
    "+ PC1 represents the overall high photosynthetic capacity\n",
    "+ PC2 represents the difference between stomatal conductance and\n",
    "+ PC3 represents the difference between d13c and"
   ]
  }
 ],
 "metadata": {
  "kernelspec": {
   "display_name": "R",
   "language": "R",
   "name": "ir"
  },
  "language_info": {
   "codemirror_mode": "r",
   "file_extension": ".r",
   "mimetype": "text/x-r-source",
   "name": "R",
   "pygments_lexer": "r",
   "version": "4.1.2"
  }
 },
 "nbformat": 4,
 "nbformat_minor": 2
}
