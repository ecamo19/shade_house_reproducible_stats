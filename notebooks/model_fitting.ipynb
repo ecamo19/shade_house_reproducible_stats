{
 "cells": [
  {
   "cell_type": "code",
   "execution_count": 16,
   "metadata": {
    "vscode": {
     "languageId": "r"
    }
   },
   "outputs": [
    {
     "name": "stderr",
     "output_type": "stream",
     "text": [
      "here() starts at /home/ecamo19/Documents/projects/nutrients_and_water_effects_2022/shade_house_reproduceble_stats\n",
      "\n"
     ]
    }
   ],
   "source": [
    "library(dplyr)\n",
    "library(lme4)\n",
    "library(nlme)\n",
    "library(purrr)\n",
    "library(performance)\n",
    "library(tibble)\n",
    "library(MuMIn)\n",
    "library(here)"
   ]
  },
  {
   "cell_type": "code",
   "execution_count": 33,
   "metadata": {
    "vscode": {
     "languageId": "r"
    }
   },
   "outputs": [
    {
     "data": {
      "text/html": [
       "'/home/ecamo19/Documents/projects/nutrients_and_water_effects_2022/shade_house_reproduceble_stats/notebooks'"
      ],
      "text/latex": [
       "'/home/ecamo19/Documents/projects/nutrients\\_and\\_water\\_effects\\_2022/shade\\_house\\_reproduceble\\_stats/notebooks'"
      ],
      "text/markdown": [
       "'/home/ecamo19/Documents/projects/nutrients_and_water_effects_2022/shade_house_reproduceble_stats/notebooks'"
      ],
      "text/plain": [
       "[1] \"/home/ecamo19/Documents/projects/nutrients_and_water_effects_2022/shade_house_reproduceble_stats/notebooks\""
      ]
     },
     "metadata": {},
     "output_type": "display_data"
    }
   ],
   "source": [
    "getwd()"
   ]
  },
  {
   "cell_type": "code",
   "execution_count": 35,
   "metadata": {
    "vscode": {
     "languageId": "r"
    }
   },
   "outputs": [
    {
     "name": "stderr",
     "output_type": "stream",
     "text": [
      "File .here already exists in /home/ecamo19/Documents/projects/nutrients_and_water_effects_2022/shade_house_reproduceble_stats\n",
      "\n"
     ]
    }
   ],
   "source": [
    "set_here('../')\n"
   ]
  },
  {
   "cell_type": "code",
   "execution_count": 32,
   "metadata": {
    "vscode": {
     "languageId": "r"
    }
   },
   "outputs": [
    {
     "data": {
      "text/html": [
       "'/home/ecamo19/Documents/projects/nutrients_and_water_effects_2022/shade_house_reproduceble_stats/notebooks'"
      ],
      "text/latex": [
       "'/home/ecamo19/Documents/projects/nutrients\\_and\\_water\\_effects\\_2022/shade\\_house\\_reproduceble\\_stats/notebooks'"
      ],
      "text/markdown": [
       "'/home/ecamo19/Documents/projects/nutrients_and_water_effects_2022/shade_house_reproduceble_stats/notebooks'"
      ],
      "text/plain": [
       "[1] \"/home/ecamo19/Documents/projects/nutrients_and_water_effects_2022/shade_house_reproduceble_stats/notebooks\""
      ]
     },
     "metadata": {},
     "output_type": "display_data"
    }
   ],
   "source": [
    "# Load all joined dataset\n",
    "getwd()\n",
    "#source(\"../scripts/code_join_data_full_dataset.R\")"
   ]
  },
  {
   "cell_type": "code",
   "execution_count": 15,
   "metadata": {
    "vscode": {
     "languageId": "r"
    }
   },
   "outputs": [
    {
     "data": {
      "text/html": [],
      "text/latex": [],
      "text/markdown": [],
      "text/plain": [
       "character(0)"
      ]
     },
     "metadata": {},
     "output_type": "display_data"
    }
   ],
   "source": [
    "ls()"
   ]
  },
  {
   "cell_type": "code",
   "execution_count": null,
   "metadata": {
    "vscode": {
     "languageId": "r"
    }
   },
   "outputs": [],
   "source": []
  },
  {
   "cell_type": "code",
   "execution_count": null,
   "metadata": {
    "vscode": {
     "languageId": "r"
    }
   },
   "outputs": [],
   "source": []
  },
  {
   "cell_type": "code",
   "execution_count": null,
   "metadata": {
    "vscode": {
     "languageId": "r"
    }
   },
   "outputs": [],
   "source": []
  },
  {
   "cell_type": "code",
   "execution_count": null,
   "metadata": {
    "vscode": {
     "languageId": "r"
    }
   },
   "outputs": [],
   "source": []
  },
  {
   "cell_type": "code",
   "execution_count": null,
   "metadata": {
    "vscode": {
     "languageId": "r"
    }
   },
   "outputs": [],
   "source": []
  },
  {
   "cell_type": "code",
   "execution_count": null,
   "metadata": {
    "vscode": {
     "languageId": "r"
    }
   },
   "outputs": [],
   "source": []
  },
  {
   "cell_type": "code",
   "execution_count": null,
   "metadata": {
    "vscode": {
     "languageId": "r"
    }
   },
   "outputs": [],
   "source": []
  },
  {
   "cell_type": "code",
   "execution_count": null,
   "metadata": {
    "vscode": {
     "languageId": "r"
    }
   },
   "outputs": [],
   "source": []
  },
  {
   "cell_type": "code",
   "execution_count": null,
   "metadata": {
    "vscode": {
     "languageId": "r"
    }
   },
   "outputs": [],
   "source": []
  },
  {
   "cell_type": "code",
   "execution_count": null,
   "metadata": {
    "vscode": {
     "languageId": "r"
    }
   },
   "outputs": [],
   "source": []
  }
 ],
 "metadata": {
  "kernelspec": {
   "display_name": "R",
   "language": "R",
   "name": "ir"
  },
  "language_info": {
   "codemirror_mode": "r",
   "file_extension": ".r",
   "mimetype": "text/x-r-source",
   "name": "R",
   "pygments_lexer": "r",
   "version": "4.1.2"
  }
 },
 "nbformat": 4,
 "nbformat_minor": 2
}
