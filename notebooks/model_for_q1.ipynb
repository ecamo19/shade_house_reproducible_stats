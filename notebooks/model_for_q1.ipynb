{
 "cells": [
  {
   "cell_type": "code",
   "execution_count": 4,
   "metadata": {
    "vscode": {
     "languageId": "r"
    }
   },
   "outputs": [
    {
     "name": "stderr",
     "output_type": "stream",
     "text": [
      "Loading required package: Matrix\n",
      "\n"
     ]
    },
    {
     "name": "stderr",
     "output_type": "stream",
     "text": [
      "\n",
      "Attaching package: ‘Matrix’\n",
      "\n",
      "\n",
      "The following objects are masked from ‘package:tidyr’:\n",
      "\n",
      "    expand, pack, unpack\n",
      "\n",
      "\n",
      "\n",
      "Attaching package: ‘nlme’\n",
      "\n",
      "\n",
      "The following object is masked from ‘package:lme4’:\n",
      "\n",
      "    lmList\n",
      "\n",
      "\n",
      "The following object is masked from ‘package:dplyr’:\n",
      "\n",
      "    collapse\n",
      "\n",
      "\n",
      "here() starts at /home/ecamo19/Documents/projects/nutrients_and_water_effects_2022/shade_house_reproduceble_stats\n",
      "\n"
     ]
    }
   ],
   "source": [
    "library(dplyr)\n",
    "library(lme4)\n",
    "library(nlme)\n",
    "library(purrr)\n",
    "library(performance)\n",
    "library(tibble)\n",
    "library(MuMIn)\n",
    "library(here)"
   ]
  },
  {
   "cell_type": "code",
   "execution_count": 24,
   "metadata": {
    "vscode": {
     "languageId": "r"
    }
   },
   "outputs": [],
   "source": [
    "setwd(here::here())"
   ]
  },
  {
   "cell_type": "code",
   "execution_count": 27,
   "metadata": {
    "vscode": {
     "languageId": "r"
    }
   },
   "outputs": [
    {
     "ename": "ERROR",
     "evalue": "Error in is.data.frame(y): object 'data_leaftraits_cleaned' not found\n",
     "output_type": "error",
     "traceback": [
      "Error in is.data.frame(y): object 'data_leaftraits_cleaned' not found\nTraceback:\n",
      "1. source(\"./scripts/code_join_data_full_dataset.R\")",
      "2. withVisible(eval(ei, envir))",
      "3. eval(ei, envir)",
      "4. eval(ei, envir)",
      "5. data_biomass_cleaned %>% inner_join(data_ecophys_cleaned, by = c(\"id\", \n .     \"spcode\", \"treatment\")) %>% inner_join(data_leaftraits_cleaned, \n .     by = c(\"id\", \"spcode\", \"treatment\")) %>% inner_join(data_isotopes_cleaned, \n .     by = c(\"id\", \"spcode\", \"treatment\")) %>% inner_join(data_initheight_cleaned, \n .     by = c(\"id\", \"spcode\", \"treatment\")) %>% inner_join(data_rgr_agr_cleaned, \n .     by = c(\"id\", \"spcode\", \"treatment\")) %>% clean_names()",
      "6. clean_names(.)",
      "7. inner_join(., data_rgr_agr_cleaned, by = c(\"id\", \"spcode\", \"treatment\"))",
      "8. inner_join(., data_initheight_cleaned, by = c(\"id\", \"spcode\", \n .     \"treatment\"))",
      "9. inner_join(., data_isotopes_cleaned, by = c(\"id\", \"spcode\", \"treatment\"))",
      "10. inner_join(., data_leaftraits_cleaned, by = c(\"id\", \"spcode\", \n  .     \"treatment\"))",
      "11. inner_join.data.frame(., data_leaftraits_cleaned, by = c(\"id\", \n  .     \"spcode\", \"treatment\"))",
      "12. auto_copy(x, y, copy = copy)",
      "13. same_src(x, y)",
      "14. same_src.data.frame(x, y)",
      "15. is.data.frame(y)"
     ]
    }
   ],
   "source": [
    "# Load all joined dataset\n",
    "source(\"./scripts/code_join_data_full_dataset.R\")"
   ]
  },
  {
   "cell_type": "markdown",
   "metadata": {},
   "source": [
    "# __Q1: What is the relative influence of water and/or nutrient availability on tropical dry forest seedling growth and biomass allocation__"
   ]
  },
  {
   "cell_type": "code",
   "execution_count": null,
   "metadata": {
    "vscode": {
     "languageId": "r"
    }
   },
   "outputs": [],
   "source": []
  },
  {
   "cell_type": "code",
   "execution_count": null,
   "metadata": {
    "vscode": {
     "languageId": "r"
    }
   },
   "outputs": [],
   "source": []
  },
  {
   "cell_type": "code",
   "execution_count": null,
   "metadata": {
    "vscode": {
     "languageId": "r"
    }
   },
   "outputs": [],
   "source": []
  },
  {
   "cell_type": "code",
   "execution_count": null,
   "metadata": {
    "vscode": {
     "languageId": "r"
    }
   },
   "outputs": [],
   "source": []
  },
  {
   "cell_type": "code",
   "execution_count": null,
   "metadata": {
    "vscode": {
     "languageId": "r"
    }
   },
   "outputs": [],
   "source": []
  },
  {
   "cell_type": "code",
   "execution_count": null,
   "metadata": {
    "vscode": {
     "languageId": "r"
    }
   },
   "outputs": [],
   "source": []
  },
  {
   "cell_type": "code",
   "execution_count": null,
   "metadata": {
    "vscode": {
     "languageId": "r"
    }
   },
   "outputs": [],
   "source": []
  },
  {
   "cell_type": "code",
   "execution_count": null,
   "metadata": {
    "vscode": {
     "languageId": "r"
    }
   },
   "outputs": [],
   "source": []
  },
  {
   "cell_type": "code",
   "execution_count": null,
   "metadata": {
    "vscode": {
     "languageId": "r"
    }
   },
   "outputs": [],
   "source": []
  },
  {
   "cell_type": "code",
   "execution_count": null,
   "metadata": {
    "vscode": {
     "languageId": "r"
    }
   },
   "outputs": [],
   "source": []
  }
 ],
 "metadata": {
  "kernelspec": {
   "display_name": "R",
   "language": "R",
   "name": "ir"
  },
  "language_info": {
   "codemirror_mode": "r",
   "file_extension": ".r",
   "mimetype": "text/x-r-source",
   "name": "R",
   "pygments_lexer": "r",
   "version": "4.1.2"
  }
 },
 "nbformat": 4,
 "nbformat_minor": 2
}
